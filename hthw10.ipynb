{
 "cells": [
  {
   "cell_type": "code",
   "execution_count": 6,
   "metadata": {},
   "outputs": [],
   "source": [
    "from nltk.sentiment.vader import SentimentIntensityAnalyzer as SIA\n",
    "import re\n",
    "from bs4 import BeautifulSoup\n",
    "import urllib3\n",
    "\n",
    "class TextExtractor():\n",
    "    # https://stackoverflow.com/questions/1936466/beautifulsoup-grab-visible-webpage-text/1983219#1983219\n",
    "\n",
    "    def __init__(self, url, local=True):\n",
    "        self.http = urllib3.PoolManager()\n",
    "        r = self.http.request('GET', url)\n",
    "        html_str = r.data.decode('utf-8')\n",
    "        self.data = BeautifulSoup(html_str, 'html5lib').findAll(text=True)\n",
    "\n",
    "    def visible(self, element):\n",
    "        if element.parent.name in ['style', 'script', '[document]', 'head', 'title', 'li', 'ul', 'button']:\n",
    "            return False\n",
    "        elif re.match('<!--.*-->', str(element.encode('utf-8'))):\n",
    "            return False\n",
    "        return True\n",
    "\n",
    "    def getText(self):\n",
    "        text = filter(self.visible, self.data)\n",
    "        result = ''\n",
    "        for line in list(text):\n",
    "            if len(line.split()) > 0:\n",
    "                result += line.strip()\n",
    "                result += ' '\n",
    "        return result\n",
    "\n",
    "def sentiment_analysis(text):\n",
    "    sia = SIA()\n",
    "    score = sia.polarity_scores(text)\n",
    "    overall = score['compound']\n",
    "    negative = score['neg']\n",
    "    positive = score['pos']\n",
    "    neutral = score['neu']\n",
    "    return overall, negative, positive, neutral\n",
    "\n",
    "def example_sentiment_analysis(url):\n",
    "    te = TextExtractor(url, local=False)\n",
    "    overall, negative, positive, neutral = sentiment_analysis(te.getText())\n",
    "    print(\"The overall sentiment of the web page rates at \" + str(overall) + \" with negative score of \" + str(negative) + \", positive score of \"+ str(positive) + \", and neutral score of \" + str(neutral))"
   ]
  },
  {
   "cell_type": "code",
   "execution_count": 7,
   "metadata": {},
   "outputs": [
    {
     "name": "stderr",
     "output_type": "stream",
     "text": [
      "/Library/Frameworks/Python.framework/Versions/3.7/lib/python3.7/site-packages/urllib3/connectionpool.py:847: InsecureRequestWarning: Unverified HTTPS request is being made. Adding certificate verification is strongly advised. See: https://urllib3.readthedocs.io/en/latest/advanced-usage.html#ssl-warnings\n",
      "  InsecureRequestWarning)\n"
     ]
    },
    {
     "name": "stdout",
     "output_type": "stream",
     "text": [
      "The overall sentiment of the web page rates at 0.994 with negative score of 0.018, positive score of 0.157, and neutral score of 0.825\n"
     ]
    }
   ],
   "source": [
    "url = 'https://www.cnn.com'\n",
    "example_sentiment_analysis(url)\n"
   ]
  },
  {
   "cell_type": "code",
   "execution_count": null,
   "metadata": {},
   "outputs": [],
   "source": []
  }
 ],
 "metadata": {
  "kernelspec": {
   "display_name": "Python 3",
   "language": "python",
   "name": "python3"
  },
  "language_info": {
   "codemirror_mode": {
    "name": "ipython",
    "version": 3
   },
   "file_extension": ".py",
   "mimetype": "text/x-python",
   "name": "python",
   "nbconvert_exporter": "python",
   "pygments_lexer": "ipython3",
   "version": "3.7.2"
  }
 },
 "nbformat": 4,
 "nbformat_minor": 2
}
